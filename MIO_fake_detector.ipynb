{
  "cells": [
    {
      "cell_type": "markdown",
      "metadata": {
        "id": "RJ3tiJXA97LC"
      },
      "source": [
        "#Fake detector\n",
        "## Adam Paleczny, Mikołaj Słowikowski, Jarosław Skwarczek"
      ]
    },
    {
      "cell_type": "code",
      "execution_count": 2,
      "metadata": {
        "id": "3UvDatezm0vD",
        "colab": {
          "base_uri": "https://localhost:8080/"
        },
        "outputId": "73371ef2-4063-41fb-f601-0863d4ac1381"
      },
      "outputs": [
        {
          "output_type": "stream",
          "name": "stdout",
          "text": [
            "\u001b[?25l     \u001b[90m━━━━━━━━━━━━━━━━━━━━━━━━━━━━━━━━━━━━━━━━\u001b[0m \u001b[32m0.0/611.8 kB\u001b[0m \u001b[31m?\u001b[0m eta \u001b[36m-:--:--\u001b[0m\r\u001b[2K     \u001b[91m━━━━━━━━\u001b[0m\u001b[90m╺\u001b[0m\u001b[90m━━━━━━━━━━━━━━━━━━━━━━━━━━━━━━━\u001b[0m \u001b[32m122.9/611.8 kB\u001b[0m \u001b[31m3.5 MB/s\u001b[0m eta \u001b[36m0:00:01\u001b[0m\r\u001b[2K     \u001b[91m━━━━━━━━━━━━━━━━━━━━━━━━━━━━━━━━━━━━━━━\u001b[0m\u001b[91m╸\u001b[0m \u001b[32m604.2/611.8 kB\u001b[0m \u001b[31m9.6 MB/s\u001b[0m eta \u001b[36m0:00:01\u001b[0m\r\u001b[2K     \u001b[90m━━━━━━━━━━━━━━━━━━━━━━━━━━━━━━━━━━━━━━━━\u001b[0m \u001b[32m611.8/611.8 kB\u001b[0m \u001b[31m7.2 MB/s\u001b[0m eta \u001b[36m0:00:00\u001b[0m\n",
            "\u001b[?25h"
          ]
        }
      ],
      "source": [
        "!pip install tensorflow-addons -q\n",
        "!pip install scikit-plot -q"
      ]
    },
    {
      "cell_type": "code",
      "execution_count": 3,
      "metadata": {
        "id": "CN_oygk99sYu"
      },
      "outputs": [],
      "source": [
        "import numpy as np\n",
        "import pandas as pd\n",
        "import re\n",
        "import string\n",
        "import matplotlib.pyplot as plt\n",
        "from sklearn.metrics               import confusion_matrix                              # generate confusion matrix\n",
        "from sklearn.metrics               import accuracy_score, recall_score, precision_score # performance assessment"
      ]
    },
    {
      "cell_type": "code",
      "execution_count": 4,
      "metadata": {
        "id": "m9FZBqCDmtxe"
      },
      "outputs": [],
      "source": [
        "import seaborn                as sns    # statistical data visualization\n",
        "import tensorflow             as tf     # build machine learning models\n",
        "import scikitplot             as skplt  # data visualization and machine-learning metrics\n",
        "\n",
        "from tensorflow                    import keras                                         # build deep learning models\n",
        "from wordcloud                     import WordCloud, STOPWORDS, ImageColorGenerator     # create wordcloud\n",
        "from sklearn.model_selection       import train_test_split                              # split into training and test sets\n",
        "from keras.preprocessing.text      import Tokenizer                                     # create tokens\n",
        "from keras.preprocessing.sequence  import pad_sequences                                 # create padding\n",
        "from keras.optimizers              import Adam                                          # optimizer for training neural networks\n",
        "from sklearn.metrics               import confusion_matrix                              # generate confusion matrix\n",
        "from sklearn.metrics               import accuracy_score, recall_score, precision_score # performance assessment\n",
        "from sklearn.metrics               import classification_report\n",
        "from sklearn.linear_model          import LogisticRegression\n",
        "from keras.models                  import Sequential\n",
        "from keras.layers                  import Embedding, Dense, LSTM\n",
        "from keras.preprocessing.sequence  import pad_sequences\n",
        "from keras.preprocessing.text      import one_hot"
      ]
    },
    {
      "cell_type": "code",
      "execution_count": 5,
      "metadata": {
        "id": "d7xyPb8GIXT8"
      },
      "outputs": [],
      "source": [
        "DATA = \"/content/gdrive/My Drive/Projekt_MIO/dataset_PL/converted-exp-PL.tsv\""
      ]
    },
    {
      "cell_type": "code",
      "execution_count": 6,
      "metadata": {
        "colab": {
          "base_uri": "https://localhost:8080/"
        },
        "id": "uoVOc_TJIRPO",
        "outputId": "98cbea37-da53-4fb2-b8b3-bc3cd25c672a"
      },
      "outputs": [
        {
          "output_type": "stream",
          "name": "stdout",
          "text": [
            "Mounted at /content/gdrive\n"
          ]
        }
      ],
      "source": [
        "from google.colab import drive\n",
        "import os\n",
        "drive.mount('/content/gdrive')\n",
        "os.chdir('/content/gdrive/My Drive/')"
      ]
    },
    {
      "cell_type": "markdown",
      "metadata": {
        "id": "r1CkA44RvtbV"
      },
      "source": [
        "## Data"
      ]
    },
    {
      "cell_type": "code",
      "execution_count": null,
      "metadata": {
        "colab": {
          "base_uri": "https://localhost:8080/",
          "height": 293
        },
        "id": "NJDzIFpMIzAT",
        "outputId": "7cff5c69-8fad-4aac-87b6-1ed47442035f"
      },
      "outputs": [
        {
          "output_type": "execute_result",
          "data": {
            "text/plain": [
              "   politicianID              name                   party  statementID  \\\n",
              "0             1  Paweł Szałamacha  Prawo i Sprawiedliwość            1   \n",
              "1             1  Paweł Szałamacha  Prawo i Sprawiedliwość            2   \n",
              "2             1  Paweł Szałamacha  Prawo i Sprawiedliwość            3   \n",
              "3             1  Paweł Szałamacha  Prawo i Sprawiedliwość            4   \n",
              "4             1  Paweł Szałamacha  Prawo i Sprawiedliwość            5   \n",
              "\n",
              "                                       statementText statementState  \\\n",
              "0  Pamiętamy, że w latach 2006-2007, kiedy rządzi...           TRUE   \n",
              "1  Jeżeli patrzymy na dane dla OECD, to Polska je...           TRUE   \n",
              "2  Po kilkuletnim okresie dodatniego przyrostu na...           TRUE   \n",
              "3  Jeszcze dwa dni wcześniej Bank Światowy podwyż...           TRUE   \n",
              "4  Jeszcze dzień wcześniej Międzynarodowy Fundusz...           TRUE   \n",
              "\n",
              "                                statementExplanClean  \\\n",
              "0  Według danych Banku Światowego wzrost polskieg...   \n",
              "1  Według danych z OECD, Polska znajduje się poni...   \n",
              "2  Liczba urodzonych dzieci w Polsce na 1000 mies...   \n",
              "3  Według danych Banku Światowego zawartych w ana...   \n",
              "4  W dniu 13 stycznia 2016 r. na stronie Międzyna...   \n",
              "\n",
              "                                     statementExplan  \n",
              "0  <p><span>Według danych </span><a href=\"http://...  \n",
              "1  <p><span>Według </span><a href=\"http://www.oec...  \n",
              "2  <p><a href=\"http://www.indexmundi.com/g/g.aspx...  \n",
              "3  <p><span>Według danych Banku Światowego zawart...  \n",
              "4  <p><span>W dniu 13 stycznia 2016 r. na stronie...  "
            ],
            "text/html": [
              "\n",
              "  <div id=\"df-ce2a6b1c-10c1-4aa3-ba87-246c053256a7\" class=\"colab-df-container\">\n",
              "    <div>\n",
              "<style scoped>\n",
              "    .dataframe tbody tr th:only-of-type {\n",
              "        vertical-align: middle;\n",
              "    }\n",
              "\n",
              "    .dataframe tbody tr th {\n",
              "        vertical-align: top;\n",
              "    }\n",
              "\n",
              "    .dataframe thead th {\n",
              "        text-align: right;\n",
              "    }\n",
              "</style>\n",
              "<table border=\"1\" class=\"dataframe\">\n",
              "  <thead>\n",
              "    <tr style=\"text-align: right;\">\n",
              "      <th></th>\n",
              "      <th>politicianID</th>\n",
              "      <th>name</th>\n",
              "      <th>party</th>\n",
              "      <th>statementID</th>\n",
              "      <th>statementText</th>\n",
              "      <th>statementState</th>\n",
              "      <th>statementExplanClean</th>\n",
              "      <th>statementExplan</th>\n",
              "    </tr>\n",
              "  </thead>\n",
              "  <tbody>\n",
              "    <tr>\n",
              "      <th>0</th>\n",
              "      <td>1</td>\n",
              "      <td>Paweł Szałamacha</td>\n",
              "      <td>Prawo i Sprawiedliwość</td>\n",
              "      <td>1</td>\n",
              "      <td>Pamiętamy, że w latach 2006-2007, kiedy rządzi...</td>\n",
              "      <td>TRUE</td>\n",
              "      <td>Według danych Banku Światowego wzrost polskieg...</td>\n",
              "      <td>&lt;p&gt;&lt;span&gt;Według danych &lt;/span&gt;&lt;a href=\"http://...</td>\n",
              "    </tr>\n",
              "    <tr>\n",
              "      <th>1</th>\n",
              "      <td>1</td>\n",
              "      <td>Paweł Szałamacha</td>\n",
              "      <td>Prawo i Sprawiedliwość</td>\n",
              "      <td>2</td>\n",
              "      <td>Jeżeli patrzymy na dane dla OECD, to Polska je...</td>\n",
              "      <td>TRUE</td>\n",
              "      <td>Według danych z OECD, Polska znajduje się poni...</td>\n",
              "      <td>&lt;p&gt;&lt;span&gt;Według &lt;/span&gt;&lt;a href=\"http://www.oec...</td>\n",
              "    </tr>\n",
              "    <tr>\n",
              "      <th>2</th>\n",
              "      <td>1</td>\n",
              "      <td>Paweł Szałamacha</td>\n",
              "      <td>Prawo i Sprawiedliwość</td>\n",
              "      <td>3</td>\n",
              "      <td>Po kilkuletnim okresie dodatniego przyrostu na...</td>\n",
              "      <td>TRUE</td>\n",
              "      <td>Liczba urodzonych dzieci w Polsce na 1000 mies...</td>\n",
              "      <td>&lt;p&gt;&lt;a href=\"http://www.indexmundi.com/g/g.aspx...</td>\n",
              "    </tr>\n",
              "    <tr>\n",
              "      <th>3</th>\n",
              "      <td>1</td>\n",
              "      <td>Paweł Szałamacha</td>\n",
              "      <td>Prawo i Sprawiedliwość</td>\n",
              "      <td>4</td>\n",
              "      <td>Jeszcze dwa dni wcześniej Bank Światowy podwyż...</td>\n",
              "      <td>TRUE</td>\n",
              "      <td>Według danych Banku Światowego zawartych w ana...</td>\n",
              "      <td>&lt;p&gt;&lt;span&gt;Według danych Banku Światowego zawart...</td>\n",
              "    </tr>\n",
              "    <tr>\n",
              "      <th>4</th>\n",
              "      <td>1</td>\n",
              "      <td>Paweł Szałamacha</td>\n",
              "      <td>Prawo i Sprawiedliwość</td>\n",
              "      <td>5</td>\n",
              "      <td>Jeszcze dzień wcześniej Międzynarodowy Fundusz...</td>\n",
              "      <td>TRUE</td>\n",
              "      <td>W dniu 13 stycznia 2016 r. na stronie Międzyna...</td>\n",
              "      <td>&lt;p&gt;&lt;span&gt;W dniu 13 stycznia 2016 r. na stronie...</td>\n",
              "    </tr>\n",
              "  </tbody>\n",
              "</table>\n",
              "</div>\n",
              "    <div class=\"colab-df-buttons\">\n",
              "\n",
              "  <div class=\"colab-df-container\">\n",
              "    <button class=\"colab-df-convert\" onclick=\"convertToInteractive('df-ce2a6b1c-10c1-4aa3-ba87-246c053256a7')\"\n",
              "            title=\"Convert this dataframe to an interactive table.\"\n",
              "            style=\"display:none;\">\n",
              "\n",
              "  <svg xmlns=\"http://www.w3.org/2000/svg\" height=\"24px\" viewBox=\"0 -960 960 960\">\n",
              "    <path d=\"M120-120v-720h720v720H120Zm60-500h600v-160H180v160Zm220 220h160v-160H400v160Zm0 220h160v-160H400v160ZM180-400h160v-160H180v160Zm440 0h160v-160H620v160ZM180-180h160v-160H180v160Zm440 0h160v-160H620v160Z\"/>\n",
              "  </svg>\n",
              "    </button>\n",
              "\n",
              "  <style>\n",
              "    .colab-df-container {\n",
              "      display:flex;\n",
              "      gap: 12px;\n",
              "    }\n",
              "\n",
              "    .colab-df-convert {\n",
              "      background-color: #E8F0FE;\n",
              "      border: none;\n",
              "      border-radius: 50%;\n",
              "      cursor: pointer;\n",
              "      display: none;\n",
              "      fill: #1967D2;\n",
              "      height: 32px;\n",
              "      padding: 0 0 0 0;\n",
              "      width: 32px;\n",
              "    }\n",
              "\n",
              "    .colab-df-convert:hover {\n",
              "      background-color: #E2EBFA;\n",
              "      box-shadow: 0px 1px 2px rgba(60, 64, 67, 0.3), 0px 1px 3px 1px rgba(60, 64, 67, 0.15);\n",
              "      fill: #174EA6;\n",
              "    }\n",
              "\n",
              "    .colab-df-buttons div {\n",
              "      margin-bottom: 4px;\n",
              "    }\n",
              "\n",
              "    [theme=dark] .colab-df-convert {\n",
              "      background-color: #3B4455;\n",
              "      fill: #D2E3FC;\n",
              "    }\n",
              "\n",
              "    [theme=dark] .colab-df-convert:hover {\n",
              "      background-color: #434B5C;\n",
              "      box-shadow: 0px 1px 3px 1px rgba(0, 0, 0, 0.15);\n",
              "      filter: drop-shadow(0px 1px 2px rgba(0, 0, 0, 0.3));\n",
              "      fill: #FFFFFF;\n",
              "    }\n",
              "  </style>\n",
              "\n",
              "    <script>\n",
              "      const buttonEl =\n",
              "        document.querySelector('#df-ce2a6b1c-10c1-4aa3-ba87-246c053256a7 button.colab-df-convert');\n",
              "      buttonEl.style.display =\n",
              "        google.colab.kernel.accessAllowed ? 'block' : 'none';\n",
              "\n",
              "      async function convertToInteractive(key) {\n",
              "        const element = document.querySelector('#df-ce2a6b1c-10c1-4aa3-ba87-246c053256a7');\n",
              "        const dataTable =\n",
              "          await google.colab.kernel.invokeFunction('convertToInteractive',\n",
              "                                                    [key], {});\n",
              "        if (!dataTable) return;\n",
              "\n",
              "        const docLinkHtml = 'Like what you see? Visit the ' +\n",
              "          '<a target=\"_blank\" href=https://colab.research.google.com/notebooks/data_table.ipynb>data table notebook</a>'\n",
              "          + ' to learn more about interactive tables.';\n",
              "        element.innerHTML = '';\n",
              "        dataTable['output_type'] = 'display_data';\n",
              "        await google.colab.output.renderOutput(dataTable, element);\n",
              "        const docLink = document.createElement('div');\n",
              "        docLink.innerHTML = docLinkHtml;\n",
              "        element.appendChild(docLink);\n",
              "      }\n",
              "    </script>\n",
              "  </div>\n",
              "\n",
              "\n",
              "<div id=\"df-b9395a68-7067-4cc5-a837-82a812b9df37\">\n",
              "  <button class=\"colab-df-quickchart\" onclick=\"quickchart('df-b9395a68-7067-4cc5-a837-82a812b9df37')\"\n",
              "            title=\"Suggest charts\"\n",
              "            style=\"display:none;\">\n",
              "\n",
              "<svg xmlns=\"http://www.w3.org/2000/svg\" height=\"24px\"viewBox=\"0 0 24 24\"\n",
              "     width=\"24px\">\n",
              "    <g>\n",
              "        <path d=\"M19 3H5c-1.1 0-2 .9-2 2v14c0 1.1.9 2 2 2h14c1.1 0 2-.9 2-2V5c0-1.1-.9-2-2-2zM9 17H7v-7h2v7zm4 0h-2V7h2v10zm4 0h-2v-4h2v4z\"/>\n",
              "    </g>\n",
              "</svg>\n",
              "  </button>\n",
              "\n",
              "<style>\n",
              "  .colab-df-quickchart {\n",
              "      --bg-color: #E8F0FE;\n",
              "      --fill-color: #1967D2;\n",
              "      --hover-bg-color: #E2EBFA;\n",
              "      --hover-fill-color: #174EA6;\n",
              "      --disabled-fill-color: #AAA;\n",
              "      --disabled-bg-color: #DDD;\n",
              "  }\n",
              "\n",
              "  [theme=dark] .colab-df-quickchart {\n",
              "      --bg-color: #3B4455;\n",
              "      --fill-color: #D2E3FC;\n",
              "      --hover-bg-color: #434B5C;\n",
              "      --hover-fill-color: #FFFFFF;\n",
              "      --disabled-bg-color: #3B4455;\n",
              "      --disabled-fill-color: #666;\n",
              "  }\n",
              "\n",
              "  .colab-df-quickchart {\n",
              "    background-color: var(--bg-color);\n",
              "    border: none;\n",
              "    border-radius: 50%;\n",
              "    cursor: pointer;\n",
              "    display: none;\n",
              "    fill: var(--fill-color);\n",
              "    height: 32px;\n",
              "    padding: 0;\n",
              "    width: 32px;\n",
              "  }\n",
              "\n",
              "  .colab-df-quickchart:hover {\n",
              "    background-color: var(--hover-bg-color);\n",
              "    box-shadow: 0 1px 2px rgba(60, 64, 67, 0.3), 0 1px 3px 1px rgba(60, 64, 67, 0.15);\n",
              "    fill: var(--button-hover-fill-color);\n",
              "  }\n",
              "\n",
              "  .colab-df-quickchart-complete:disabled,\n",
              "  .colab-df-quickchart-complete:disabled:hover {\n",
              "    background-color: var(--disabled-bg-color);\n",
              "    fill: var(--disabled-fill-color);\n",
              "    box-shadow: none;\n",
              "  }\n",
              "\n",
              "  .colab-df-spinner {\n",
              "    border: 2px solid var(--fill-color);\n",
              "    border-color: transparent;\n",
              "    border-bottom-color: var(--fill-color);\n",
              "    animation:\n",
              "      spin 1s steps(1) infinite;\n",
              "  }\n",
              "\n",
              "  @keyframes spin {\n",
              "    0% {\n",
              "      border-color: transparent;\n",
              "      border-bottom-color: var(--fill-color);\n",
              "      border-left-color: var(--fill-color);\n",
              "    }\n",
              "    20% {\n",
              "      border-color: transparent;\n",
              "      border-left-color: var(--fill-color);\n",
              "      border-top-color: var(--fill-color);\n",
              "    }\n",
              "    30% {\n",
              "      border-color: transparent;\n",
              "      border-left-color: var(--fill-color);\n",
              "      border-top-color: var(--fill-color);\n",
              "      border-right-color: var(--fill-color);\n",
              "    }\n",
              "    40% {\n",
              "      border-color: transparent;\n",
              "      border-right-color: var(--fill-color);\n",
              "      border-top-color: var(--fill-color);\n",
              "    }\n",
              "    60% {\n",
              "      border-color: transparent;\n",
              "      border-right-color: var(--fill-color);\n",
              "    }\n",
              "    80% {\n",
              "      border-color: transparent;\n",
              "      border-right-color: var(--fill-color);\n",
              "      border-bottom-color: var(--fill-color);\n",
              "    }\n",
              "    90% {\n",
              "      border-color: transparent;\n",
              "      border-bottom-color: var(--fill-color);\n",
              "    }\n",
              "  }\n",
              "</style>\n",
              "\n",
              "  <script>\n",
              "    async function quickchart(key) {\n",
              "      const quickchartButtonEl =\n",
              "        document.querySelector('#' + key + ' button');\n",
              "      quickchartButtonEl.disabled = true;  // To prevent multiple clicks.\n",
              "      quickchartButtonEl.classList.add('colab-df-spinner');\n",
              "      try {\n",
              "        const charts = await google.colab.kernel.invokeFunction(\n",
              "            'suggestCharts', [key], {});\n",
              "      } catch (error) {\n",
              "        console.error('Error during call to suggestCharts:', error);\n",
              "      }\n",
              "      quickchartButtonEl.classList.remove('colab-df-spinner');\n",
              "      quickchartButtonEl.classList.add('colab-df-quickchart-complete');\n",
              "    }\n",
              "    (() => {\n",
              "      let quickchartButtonEl =\n",
              "        document.querySelector('#df-b9395a68-7067-4cc5-a837-82a812b9df37 button');\n",
              "      quickchartButtonEl.style.display =\n",
              "        google.colab.kernel.accessAllowed ? 'block' : 'none';\n",
              "    })();\n",
              "  </script>\n",
              "</div>\n",
              "    </div>\n",
              "  </div>\n"
            ],
            "application/vnd.google.colaboratory.intrinsic+json": {
              "type": "dataframe",
              "variable_name": "df",
              "summary": "{\n  \"name\": \"df\",\n  \"rows\": 2835,\n  \"fields\": [\n    {\n      \"column\": \"politicianID\",\n      \"properties\": {\n        \"dtype\": \"number\",\n        \"std\": 123,\n        \"min\": 1,\n        \"max\": 440,\n        \"num_unique_values\": 418,\n        \"samples\": [\n          340,\n          343,\n          411\n        ],\n        \"semantic_type\": \"\",\n        \"description\": \"\"\n      }\n    },\n    {\n      \"column\": \"name\",\n      \"properties\": {\n        \"dtype\": \"category\",\n        \"num_unique_values\": 418,\n        \"samples\": [\n          \"Artur Kluczny\",\n          \"Marek Michalak\",\n          \"Grzegorz Ko\\u0142odko\"\n        ],\n        \"semantic_type\": \"\",\n        \"description\": \"\"\n      }\n    },\n    {\n      \"column\": \"party\",\n      \"properties\": {\n        \"dtype\": \"category\",\n        \"num_unique_values\": 25,\n        \"samples\": [\n          \"Inni\",\n          \"Solidarna Polska\",\n          \"Prawo i Sprawiedliwo\\u015b\\u0107\"\n        ],\n        \"semantic_type\": \"\",\n        \"description\": \"\"\n      }\n    },\n    {\n      \"column\": \"statementID\",\n      \"properties\": {\n        \"dtype\": \"number\",\n        \"std\": 820,\n        \"min\": 1,\n        \"max\": 2843,\n        \"num_unique_values\": 2835,\n        \"samples\": [\n          2095,\n          2567,\n          1148\n        ],\n        \"semantic_type\": \"\",\n        \"description\": \"\"\n      }\n    },\n    {\n      \"column\": \"statementText\",\n      \"properties\": {\n        \"dtype\": \"string\",\n        \"num_unique_values\": 2831,\n        \"samples\": [\n          \"Na razie dooko\\u0142a nas wszystkie kraje wchodz\\u0105 do euro, kt\\u00f3re jeszcze nie wesz\\u0142y. Litwa wchodzi na ko\\u0144cu tego roku. Czechy powiedzia\\u0142y, \\u017ce wchodz\\u0105 w najbli\\u017cszym czasie\",\n          \"Lista rezerwowa (w Programie Budowy Dr\\u00f3g Krajowych)zosta\\u0142a zniesiona. Jest jedna lista.\",\n          \"Z oficjalnych danych wynika, \\u017ce sp\\u0142acalno\\u015b\\u0107 kredyt\\u00f3w frankowicz\\u00f3w jest lepsza ni\\u017c z\\u0142ot\\u00f3wkowych.\"\n        ],\n        \"semantic_type\": \"\",\n        \"description\": \"\"\n      }\n    },\n    {\n      \"column\": \"statementState\",\n      \"properties\": {\n        \"dtype\": \"category\",\n        \"num_unique_values\": 4,\n        \"samples\": [\n          \"FALSE\",\n          \"UNVERIFIABLE\",\n          \"TRUE\"\n        ],\n        \"semantic_type\": \"\",\n        \"description\": \"\"\n      }\n    },\n    {\n      \"column\": \"statementExplanClean\",\n      \"properties\": {\n        \"dtype\": \"string\",\n        \"num_unique_values\": 2826,\n        \"samples\": [\n          \"Zbigniew Ziobro pos\\u0142uguj\\u0105c si\\u0119 na przemian danymi prawdziwymi i b\\u0142\\u0119dnymi wysnuwa wniosek o nadci\\u0105gaj\\u0105cym upadku polskiego wydobycia w\\u0119gla, niemo\\u017cliwy do poparcia przy u\\u017cyciu og\\u00f3lnodost\\u0119pnych statystyk, oficjalnych prognoz czy informacji. \\u00a0 Bior\\u0105c pod uwag\\u0119 brak dok\\u0142adniejszych danych czy nawet kontekstu wypowiedzi, trudno ustali\\u0107 na jakiej podstawie Zbigniew Ziobro oskar\\u017cy\\u0142 Donalda Tuska o przyczynianie si\\u0119 do likwidacji polskich kopalni. W \\u015bwietle ostatnich o\\u017cywionych dyskusji na temat wprowadzanej przez rz\\u0105d ustawy o odnawialnych \\u017ar\\u00f3d\\u0142ach energii mo\\u017cna uzna\\u0107, i\\u017c to w szeregu regulacji powi\\u0105zanych z unijnym pakietem klimatyczno-energetycznym. Rzeczone ustawy zmierzaj\\u0105 przede wszystkim do odej\\u015bcia od oparcia ca\\u0142ej gospodarki energetycznej pa\\u0144stw cz\\u0142onkowskich na paliwach nieodnawialnych i stosowania przez nie bardziej ekologicznych metod wytwarzania energii. \\u00a0 Ze wzgl\\u0119du na brak stosownych analiz szacuj\\u0105cych potencjalny wp\\u0142yw kolejnych ustaw o odnawialnych \\u017ar\\u00f3d\\u0142ach energii, nale\\u017cy oprze\\u0107 si\\u0119 na statystykach opisuj\\u0105cych jak kopalnie w\\u0119gla funkcjonowa\\u0142y do tej pory, w \\u015bwietle \\u201cproekologicznego\\u201d ustawodawstwa. Obserwuj\\u0105c aktualne tendencje, trudno uzna\\u0107 wydobycie w\\u0119gla w ostatnich latach za zapowiadaj\\u0105ce upadek polskich kopalni. Zgodnie z danymi GUS, w latach 2011-2013 wydobycie tak w\\u0119gla kamiennego, jak i brunatnego nie zazna\\u0142o znacznego pogorszenia. W statystykach rocznych od roku 2007, czyli pocz\\u0105tku rz\\u0105du Donalda Tuska, wydobycie w\\u0119gla kamiennego spad\\u0142o wprawdzie o oko\\u0142o 8,5 tysi\\u0105ca ton przy jednoczesnym wzro\\u015bcie uzyskanego w\\u0119gla brunatnego o prawie 7 tysi\\u0119cy ton. Bior\\u0105c to pod uwag\\u0119, trudno znale\\u017a\\u0107 poparcie dla s\\u0142\\u00f3w europos\\u0142a. (dane opracowane przez GUS, dost\\u0119pne tutaj, odpowiednio pod numerem drugim i trzecim, w tabelach miesi\\u0119cznych oraz rocznych). \\u00a0 Jak pokazuj\\u0105 przytoczone przez polityka przyk\\u0142ady, wydobycie w\\u0119gla mo\\u017ce faktycznie by\\u0107 rentown\\u0105 dzia\\u0142alno\\u015bci\\u0105. W Stanach Zjednoczonych (gdzie, co warto podkre\\u015bli\\u0107, kopaliny te s\\u0105 eksploatowane przez prywatne, chocia\\u017c wspierane przez bud\\u017cet pa\\u0144stwa, firmy) w ostatnich pi\\u0119ciu latach zysk pi\\u0119ciu najwi\\u0119kszych przedsi\\u0119biorstw wyni\\u00f3s\\u0142 ponad 8,5 miliarda dolar\\u00f3w. Dowodem na finansowe korzy\\u015bci zwi\\u0105zane z wydobyciem w\\u0119gla w Chinach mo\\u017ce by\\u0107 fakt, i\\u017c China Coal Energy Co., najwi\\u0119ksza tego typu firma w ChRL, rok 2012 zako\\u0144czy\\u0142a z przychodem wysoko\\u015bci blisko 1.5 miliarda dolar\\u00f3w. \\u00a0W kwestii zasob\\u00f3w w\\u0119gla, Zbigniew Ziobro ma racj\\u0119 - w kwestii wydobycia w\\u0119gla kamiennego i brunatnego Polska jest liderem w\\u015br\\u00f3d kraj\\u00f3w Unii Europejskiej. Mylnie jednak uzna\\u0142 nasz kraj za za pa\\u0144stwo cz\\u0142onkowskie z najni\\u017cszymi op\\u0142atami za energi\\u0119 elektryczn\\u0105 - za pr\\u0105d w gospodarstwie domowym mniej zap\\u0142aci mieszkaniec Bu\\u0142garii, Estonii, Grecji czy Litwy, podobnie sprawa ma si\\u0119 z energi\\u0105 dostarczan\\u0105 dla cel\\u00f3w przemys\\u0142owych. Por\\u00f3wnuj\\u0105c za\\u015b zestawione przez europos\\u0142a ceny pr\\u0105du z gazem, w przeliczeniu na koszt kilowatogodziny, ten drugi jest w Polsce ponad trzykrotnie ta\\u0144szy. \\u00a0\",\n          \"Jedynie w 2007 roku wed\\u0142ug G\\u0142\\u00f3wnego Urz\\u0119du Statystycznego i EUROSTAT- u Polska osi\\u0105gn\\u0119\\u0142a wzrost PKB si\\u0119gaj\\u0105cy 7 procent. Lata GUS EUROSTAT 2005 3,6 % 3,5 % 2006 6,2 % 6,2 % 2007 6,8 % 7,2 %\",\n          \"Trybuna\\u0142 Konstytucyjny 30 lipca 2014 roku wyda\\u0142 orzeczenie\\u00a0dotycz\\u0105ce okre\\u015blenia katalogu zbieranych informacji o jednostce za pomoc\\u0105 \\u015brodk\\u00f3w technicznych w dzia\\u0142aniach operacyjnych. TK uzna\\u0142 niekt\\u00f3re przepisy z ustaw o policji, Agencji Bezpiecze\\u0144stwa Wewn\\u0119trznego, Agencji Wywiadu, Centralnym Biurze Antykorupcyjnym za niezgodne z Konstytucj\\u0105 i postanowi\\u0142, \\u017ce te przepisy trac\\u0105 moc obowi\\u0105zuj\\u0105c\\u0105 z up\\u0142ywem 18 (osiemnastu) miesi\\u0119cy od dnia og\\u0142oszenia wyroku w Dzienniku Ustaw. Wyrok zosta\\u0142 og\\u0142oszony w 6 sierpnia 2014 roku, wi\\u0119c przepisy trac\\u0105 moc 6 lutego 2016 roku.\"\n        ],\n        \"semantic_type\": \"\",\n        \"description\": \"\"\n      }\n    },\n    {\n      \"column\": \"statementExplan\",\n      \"properties\": {\n        \"dtype\": \"string\",\n        \"num_unique_values\": 2830,\n        \"samples\": [\n          \"<p><a href=\\\"http://isap.sejm.gov.pl/DetailsServlet?id=WDU19980510318\\\" rel=\\\"nofollow\\\">Konkordat mi\\u0119dzy Stolic\\u0105 Apostolsk\\u0105 i Rzecz\\u0105pospolit\\u0105 Polsk\\u0105 </a>rzeczywi\\u015bcie\\u00a0zawarto 28 lipca 1993 roku w trakcie dzia\\u0142ania rz\\u0105du Hanny Suchockiej, kt\\u00f3rego kadencja trwa\\u0142a od\\u00a011 lipca 1992 r. do 25 pa\\u017adziernika 1993 r.</p> <p>Lata 1993-1997 to okres dzia\\u0142ania Sejmu <a href=\\\"http://www.sejm.gov.pl/archiwum/arch2.html\\\" rel=\\\"nofollow\\\">II kadencji</a>, w trakcie kt\\u00f3rego wi\\u0119kszo\\u015b\\u0107 w parlamencie mia\\u0142a koalicja SLD i PSL.\\u00a0Jednak w tym czasie prace legislacyjne po\\u015bwi\\u0119cone konkordatowi ci\\u0105gle trwa\\u0142y.</p> <p>Dnia 30 czerwca 1994 r. Sejm na 24. posiedzeniu<a href=\\\"http://orka2.sejm.gov.pl/Debata2.nsf/9a905bcb5531f478c125745f0037938e/06a0b2fdbe626f29c12574e50045e8da?OpenDocument\\\" rel=\\\"nofollow\\\"> rozpatrywa\\u0142</a> w pierwszym czytaniu rz\\u0105dowy projekt ustawy o ratyfikacji konkordatu mi\\u0119dzy Stolic\\u0105 Apostolsk\\u0105 a Rzecz\\u0105pospolit\\u0105 Polsk\\u0105. Minister spraw zagranicznych Andrzej Olechowski <a href=\\\"http://orka2.sejm.gov.pl/Debata2.nsf/main/55C2949C\\\" rel=\\\"nofollow\\\">przedstawiaj\\u0105c</a> projekt ustawy stwierdzi\\u0142 wtedy m.in. \\u017ce:</p> <p>\\\"<em>Rz\\u0105d, w kt\\u00f3rego imieniu przemawiam, nie uczestniczy\\u0142 w negocjowaniu tekstu konkordatu. Chc\\u0119 to podkre\\u015bli\\u0107. Niezale\\u017cnie jednak od tego, kt\\u00f3ry z rz\\u0105d\\u00f3w Rzeczypospolitej Polskiej negocjuje i podpisuje umowy mi\\u0119dzynarodowe, obowi\\u0105zek wywi\\u0105zania si\\u0119 z zaci\\u0105gni\\u0119tych zobowi\\u0105za\\u0144 ci\\u0105\\u017cy na pa\\u0144stwie. <strong>Rz\\u0105d premiera Pawlaka pragnie, z pomoc\\u0105 Wysokiej Izby, wywi\\u0105za\\u0107 si\\u0119 ze zobowi\\u0105zania, kt\\u00f3re w lipcu ubieg\\u0142ego roku Rzeczpospolita zaci\\u0105gn\\u0119\\u0142a wobec Stolicy Apostolskiej</strong></em>\\\".</p> <p>W dyskusji nad projektem w imieniu klubu parlamentarnego Sojuszu Lewicy Demokratycznej <a href=\\\"http://orka2.sejm.gov.pl/Debata2.nsf/main/10785CD4\\\" rel=\\\"nofollow\\\">g\\u0142os</a> zabra\\u0142 wtedy pose\\u0142 <strong>Longin Pastusiak</strong>, kt\\u00f3ry powiedzia\\u0142 m.in.:</p> <p>\\\"<em>Uwa\\u017camy, \\u017ce w pe\\u0142ni mo\\u017cliwe by\\u0142o wynegocjowanie takiego tekstu konkordatu, kt\\u00f3ry Wysoka Izba mog\\u0142aby przyj\\u0105\\u0107 jednog\\u0142o\\u015bnie. By\\u0142oby to w interesie pa\\u0144stwa, spo\\u0142ecze\\u0144stwa polskiego i Ko\\u015bcio\\u0142a katolickiego, kt\\u00f3rego spo\\u0142eczn\\u0105 rol\\u0119 doceniamy.</em></p> <p><em>Jednak nie w tym kierunku posz\\u0142y wysi\\u0142ki negocjator\\u00f3w, co - jak obecnie \\u0142atwo stwierdzi\\u0107 - wywo\\u0142a\\u0142o polityczny problem. Mo\\u017cna go by\\u0142o unikn\\u0105\\u0107 w interesie nas wszystkich: i wierz\\u0105cych, i niewierz\\u0105cych. Chc\\u0105c stworzy\\u0107 mo\\u017cliwo\\u015b\\u0107 wypowiedzenia si\\u0119 w sprawie konkordatu wszystkim stronom i wys\\u0142uchania r\\u00f3\\u017cnych argument\\u00f3w, Sojusz Lewicy Demokratycznej przed\\u0142o\\u017cy\\u0142 w\\u0142a\\u015bnie ten projekt uchwa\\u0142y, kt\\u00f3ry mia\\u0142em przyjemno\\u015b\\u0107 Wysokiej Izbie wcze\\u015bniej przedstawi\\u0107.</em></p> <p><em>Chcia\\u0142bym r\\u00f3wnocze\\u015bnie zwr\\u00f3ci\\u0107 uwag\\u0119 ewentualnym krytykom stanowiska Sojuszu Lewicy Demokratycznej, <strong>aby nie postrzegali naszego klubu jako przeciwnik\\u00f3w konkordatowej regulacji statusu prawnego Ko\\u015bcio\\u0142a katolickiego w pa\\u0144stwie. W naszych oficjalnych deklaracjach takiego stanowiska nie wyra\\u017cali\\u015bmy.</strong></em></p> <p><em>Mamy natomiast konkretne w\\u0105tpliwo\\u015bci i zastrze\\u017cenia co do niekt\\u00f3rych artyku\\u0142\\u00f3w konkordatu, kt\\u00f3re wymagaj\\u0105 wyja\\u015bnienia w dalszych pracach legislacyjnych. Dlatego te\\u017c <strong>Klub Parlamentarny Sojuszu Lewicy Demokratycznej opowiada si\\u0119 za przekazaniem konkordatu do Komisji Nadzwyczajnej i odbyciem drugiego czytania po wej\\u015bciu w \\u017cyciu konstytucji Rzeczypospolitej Polskiej</strong></em>\\\".</p> <p>Ostatecznie dnia 1 lipca 1994 r. Sejm <a href=\\\"http://orka2.sejm.gov.pl/Debata2.nsf/9a905bcb5531f478c125745f0037938e/04ff2a454600546bc12574e50045efe5?OpenDocument\\\" rel=\\\"nofollow\\\">podj\\u0105\\u0142</a> w g\\u0142osowaniu (za - 201 pos\\u0142\\u00f3w, przeciw - 185, wstrzyma\\u0142o si\\u0119 - 13) <a href=\\\"http://dokumenty.rcl.gov.pl/M1994039032601.pdf\\\" rel=\\\"nofollow\\\">uchwa\\u0142\\u0119</a> o trybie prac nad ustaw\\u0105 o ratyfikacji konkordatu mi\\u0119dzy Stolic\\u0105 Apostolsk\\u0105 a Rzecz\\u0105pospolit\\u0105 Polsk\\u0105 i skierowa\\u0142 rz\\u0105dowy projekt tej ustawy do Komisji Nadzwyczajnej.\\u00a0Jej przewodnicz\\u0105cym zosta\\u0142 pose\\u0142 klubu SLD - <a href=\\\"http://orka.sejm.gov.pl/ArchAll2.nsf/2RP/338\\\" rel=\\\"nofollow\\\">Zbigniew Siemi\\u0105tkowski</a>.</p> <p><a href=\\\"http://dokumenty.rcl.gov.pl/M1994039032601.pdf\\\" rel=\\\"nofollow\\\">Komisja</a> mia\\u0142a na celu w szczeg\\u00f3lno\\u015bci oceni\\u0107 skutki prawne uchwalenia ustawy ratyfikacyjnej oraz zgodno\\u015b\\u0107 konkordatu z ustaw\\u0105 zasadnicz\\u0105. W przypadku pierwszego zadania (okre\\u015blone w\\u00a0\\u00a71) narzucono termin zako\\u0144czenia prac do 31 stycznia 1995 r. (zmieniony p\\u00f3\\u017aniej na 15 marca 1995 r.), natomiast wobec drugiego (\\u00a72) ustalono, \\u017ce w tym zakresie prace zostan\\u0105 zako\\u0144czone najp\\u00f3\\u017aniej w ci\\u0105gu 2 miesi\\u0119cy od uchwalenia projektu Konstytucji. Sta\\u0142o si\\u0119 to w dniu 2 kwietnia 1997 r. w zwi\\u0105zku z czym prace komisji trwa\\u0142y ostatecznie do 19 czerwca 1997 roku. Od ca\\u0142o\\u015bciowego sprawozdania z prac komisji niejako uzale\\u017cniono przej\\u015bcie do drugiego czytania nad projektem ustawy o wyra\\u017ceniu zgody na ratyfikacj\\u0119, co skutecznie rozci\\u0105gn\\u0119\\u0142o w czasie prace legislacyjne nad projektem ustawy.</p> <p>Ustawa o wyra\\u017ceniu zgody na ratyfikacj\\u0119 konkordatu zosta\\u0142a poddana pod <a href=\\\"http://orka.sejm.gov.pl/SQL.nsf/glosowania?OpenAgent&3&8&10\\\" rel=\\\"nofollow\\\">g\\u0142osowanie</a>\\u00a0i uchwalona dopiero 8 stycznia 1998 r., za czas\\u00f3w Sejmu <a href=\\\"http://www.sejm.gov.pl/archiwum/arch2.html\\\" rel=\\\"nofollow\\\">III kadencji</a> (1997-2001) w kt\\u00f3rym wi\\u0119kszo\\u015b\\u0107 stanowi\\u0142a koalicja AWS i UW. Sojusz Lewicy Demokratycznej g\\u0142osowa\\u0142 niemal w ca\\u0142o\\u015bci przeciw (154 g\\u0142osy przeciw, 1 za, 1 g\\u0142os wstrzymuj\\u0105cy si\\u0119).</p> <p>Prezydent Aleksander Kwa\\u015bniewski <a href=\\\"http://isap.sejm.gov.pl/DetailsServlet?id=WDU19980510318\\\" rel=\\\"nofollow\\\">podpisa\\u0142</a> umow\\u0119 23 lutego 1998 roku.</p>\",\n          \"<p><span>Zgodnie z <a href=\\\"http://trybunal.gov.pl/o-trybunale/sedziowie-trybunalu-konstytucyjnego/art/9397-julia-przylebska/\\\" rel=\\\"nofollow\\\">\\u017cyciorysem</a> Julii Przy\\u0142\\u0119bskiej zamieszczonym na stronie internetowej Trybuna\\u0142u Konstytucyjnego nowo wybrana prezes TK W latach 1984-1988 odby\\u0142a aplikacj\\u0119 s\\u0119dziowsk\\u0105 i asesur\\u0119 w okr\\u0119gu S\\u0105du Wojew\\u00f3dzkiego w Poznaniu. Od 1988 do 1991 r. by\\u0142a s\\u0119dzi\\u0105 S\\u0105du Rejonowego w Poznaniu, w Wydziale Cywilnym Nieprocesowym. W latach 1991-1998 orzeka\\u0142a najpierw jako s\\u0119dzia delegowany, a nast\\u0119pnie s\\u0119dzia S\\u0105du Wojew\\u00f3dzkiego w Poznaniu w Wydziale Ubezpiecze\\u0144 Spo\\u0142ecznych. Od 1990 do 1992 r. by\\u0142a Przewodnicz\\u0105c\\u0105 Rady Pracowniczej w Okr\\u0119gu S\\u0105du Wojew\\u00f3dzkiego w Poznaniu. </span></p> <p></p> <p><span>Zgodnie z informacjami medialnymi (</span><a href=\\\"http://www.gloswielkopolski.pl/wiadomosci/poznan/a/julia-przylebska-nie-nadaje-sie-do-orzekania-to-opinia-sedziow-z-poznania,11586256/2/\\\" rel=\\\"nofollow\\\"><span>G\\u0142os Wielkopolski</span></a><span>, </span><a href=\\\"http://wyborcza.pl/1,75398,21080438,sedzia-julia-przylebska-byla-oceniona-negatywnie-poznanski.html\\\" rel=\\\"nofollow\\\"><span>wyborcza.pl</span></a><span>) Julia Przy\\u0142\\u0119bska po kilkuletniej pracy w konsulacie w Berlinie i ch\\u0119ci powrotu do orzecznictwa zosta\\u0142a negatywnie oceniona przez s\\u0119dziego wizytatora oceniaj\\u0105cego jej orzeczenia. S\\u0119dzia wizytator wskaza\\u0142, \\u017ce w\\u0105tpliwo\\u015bci w wyrokach s\\u0119dzi Przy\\u0142\\u0119bskiej budz\\u0105 cz\\u0119ste ich uchylenia oraz brak ich stabilno\\u015bci. Nast\\u0119pnie negatywn\\u0105 ocen\\u0119 na temat przywr\\u00f3cania Julii Przy\\u0142\\u0119bskiej do orzecznictwa wskaza\\u0142y Kolegium S\\u0105du Okr\\u0119gowego oraz Zgromadzenie Og\\u00f3lne S\\u0119dzi\\u00f3w. \\u00a0</span></p> <p> <span>Julia Przy\\u0142\\u0119bska, na podstawie postanowienia prezydenta Lecha Kaczy\\u0144skiego w 2007 roku, wr\\u00f3ci\\u0142a \\u00a0na stanowisko s\\u0119dziego S\\u0105du Okr\\u0119gowego w Poznaniu w Wydziale VIII Ubezpiecze\\u0144 Spo\\u0142ecznych. Od 2009 r. Pe\\u0142ni\\u0142a funkcj\\u0119 zast\\u0119pcy Przewodnicz\\u0105cej Wydzia\\u0142u, a od 1 lipca 2015 r. przewodnicz\\u0105cej Wydzia\\u0142u Pracy i Ubezpiecze\\u0144 Spo\\u0142ecznych.</span></p>\",\n          \"<p>W Krakowie prowadzony jest od 1999 \\u201cProgram Poprawy Bezpiecze\\u0144stwa dla Miasta Krakowa\\u201d. W roku <a href=\\\"https://www.bip.krakow.pl/zalaczniki/dokumenty/n/117620/karta\\\" rel=\\\"nofollow\\\">2013</a> stwierdzono w Krakowie 30 696 przest\\u0119pstw, co stanowi 35,5% og\\u00f3\\u0142u wykrocze\\u0144 w wojew\\u00f3dztwie Ma\\u0142opolskim. W 2012r. by\\u0142o to a\\u017c 33 010. Wska\\u017anik\\u00a0wykrywalno\\u015bci og\\u00f3lnej na koniec 2013 roku wyni\\u00f3s\\u0142 45,9% \\u2013 oznacza to spadek wska\\u017anika\\u00a0o 6,5 % w stosunku do roku poprzedniego.</p>\"\n        ],\n        \"semantic_type\": \"\",\n        \"description\": \"\"\n      }\n    }\n  ]\n}"
            }
          },
          "metadata": {},
          "execution_count": 36
        }
      ],
      "source": [
        "df = pd.read_csv(DATA,sep='\\t')\n",
        "df.head()"
      ]
    },
    {
      "cell_type": "code",
      "execution_count": null,
      "metadata": {
        "colab": {
          "base_uri": "https://localhost:8080/"
        },
        "id": "7sg1vhL6PHLv",
        "outputId": "dfc90c38-1cb8-481b-e8ee-c8b0051737d4"
      },
      "outputs": [
        {
          "output_type": "execute_result",
          "data": {
            "text/plain": [
              "Index(['politicianID', 'name', 'party', 'statementID', 'statementText',\n",
              "       'statementState', 'statementExplanClean', 'statementExplan'],\n",
              "      dtype='object')"
            ]
          },
          "metadata": {},
          "execution_count": 97
        }
      ],
      "source": [
        "df.columns"
      ]
    },
    {
      "cell_type": "code",
      "execution_count": null,
      "metadata": {
        "colab": {
          "base_uri": "https://localhost:8080/",
          "height": 472
        },
        "id": "QENdLKvGJIPf",
        "outputId": "f7d3b757-4ee9-4186-f7e9-8a81464a2080"
      },
      "outputs": [
        {
          "output_type": "display_data",
          "data": {
            "text/plain": [
              "<Figure size 640x480 with 1 Axes>"
            ],
            "image/png": "[encoded data removed]"
          },
          "metadata": {}
        }
      ],
      "source": [
        "categories = df['statementState'].value_counts()\n",
        "\n",
        "plt.bar(categories.index, categories.values, color ='maroon',\n",
        "        width = 0.4)\n",
        "\n",
        "plt.xlabel(\"Classes\")\n",
        "plt.ylabel(\"Number\")\n",
        "plt.title(\"Classes in dataset\")\n",
        "plt.show()"
      ]
    },
    {
      "cell_type": "code",
      "execution_count": null,
      "metadata": {
        "colab": {
          "base_uri": "https://localhost:8080/"
        },
        "id": "3roVJollK2wk",
        "outputId": "8d58245a-1a1c-462d-d030-b5e19c51de88"
      },
      "outputs": [
        {
          "output_type": "execute_result",
          "data": {
            "text/plain": [
              "politicianID            0\n",
              "name                    0\n",
              "party                   0\n",
              "statementID             0\n",
              "statementText           0\n",
              "statementState          0\n",
              "statementExplanClean    0\n",
              "statementExplan         0\n",
              "dtype: int64"
            ]
          },
          "metadata": {},
          "execution_count": 7
        }
      ],
      "source": [
        "# How many empty labels\n",
        "df.isnull().sum()"
      ]
    },
    {
      "cell_type": "markdown",
      "metadata": {
        "id": "1k51G76XvxwM"
      },
      "source": [
        "##Prepare for training"
      ]
    },
    {
      "cell_type": "code",
      "execution_count": null,
      "metadata": {
        "id": "jl6ohNdWlH-F"
      },
      "outputs": [],
      "source": [
        "# create the 'clean_text' function that receives the 'text' argument\n",
        "def clean_text(text):\n",
        "    # create variable 'word' and divide the text by words and use whitespace as delimiter\n",
        "    words = str(text).split()\n",
        "\n",
        "    # convert words to lowercase by adding space to the end of each word\n",
        "    words = [i.lower() + \" \" for i in words]\n",
        "\n",
        "    # join words into a single string, but separated by spaces\n",
        "    words = \" \".join(words)\n",
        "\n",
        "    # remove punctuation from strings, using the st.punctuation method as an argument\n",
        "    words = words.translate(words.maketrans('', '', string.punctuation))\n",
        "\n",
        "    return words"
      ]
    },
    {
      "cell_type": "code",
      "execution_count": null,
      "metadata": {
        "id": "xCXFTsCym-vk"
      },
      "outputs": [],
      "source": [
        "df['statementText'] = df['statementText'].apply(clean_text)\n",
        "df['name'] = df['name'].apply(clean_text)\n",
        "df['party'] = df['party'].apply(clean_text)"
      ]
    },
    {
      "cell_type": "code",
      "execution_count": null,
      "metadata": {
        "id": "1Lm_K_CitkIR"
      },
      "outputs": [],
      "source": [
        "df = df.drop(columns=['politicianID', 'statementID', 'statementExplanClean', 'statementExplan'])"
      ]
    },
    {
      "cell_type": "code",
      "execution_count": null,
      "metadata": {
        "colab": {
          "base_uri": "https://localhost:8080/"
        },
        "id": "-lOlL8REvIpm",
        "outputId": "351da5d3-e3b5-44a4-982d-a1e1ad6e9569"
      },
      "outputs": [
        {
          "output_type": "execute_result",
          "data": {
            "text/plain": [
              "statementState\n",
              "TRUE            1761\n",
              "FALSE            648\n",
              "MISLEADING       313\n",
              "UNVERIFIABLE     113\n",
              "Name: count, dtype: int64"
            ]
          },
          "metadata": {},
          "execution_count": 11
        }
      ],
      "source": [
        "df['statementState'].value_counts()"
      ]
    },
    {
      "cell_type": "code",
      "execution_count": null,
      "metadata": {
        "id": "adenZZjamjUQ"
      },
      "outputs": [],
      "source": [
        "train, df_temp = train_test_split(df, test_size=0.25, stratify=df['statementState'], shuffle=True, random_state=123)\n",
        "validation, test = train_test_split(df, test_size=0.5,stratify=df['statementState'], shuffle=True, random_state=123)\n",
        "statementStateMap = { \"FALSE\": 0, \"TRUE\": 1, \"UNVERIFIABLE\": 2, \"MISLEADING\": 3 }"
      ]
    },
    {
      "cell_type": "code",
      "execution_count": null,
      "metadata": {
        "id": "jl5em92oFBNC"
      },
      "outputs": [],
      "source": [
        "# converting strings to numbers of test Data\n",
        "def convertToNumbers(x_data_of_strings, y_data_of_strings, vocab_size, sent_length):\n",
        "    onehot_rep_train = [one_hot(word, vocab_size) for word in x_data_of_strings]\n",
        "    ebedded_doc_train = pad_sequences(onehot_rep_train, padding='pre', maxlen = sent_length)\n",
        "    state_train = np.array(list(map(statementStateMap.get, y_data_of_strings)))\n",
        "    return ebedded_doc_train, state_train"
      ]
    },
    {
      "cell_type": "markdown",
      "source": [
        "## Decision Tree Classifier"
      ],
      "metadata": {
        "id": "7FoEG0ZlEp8Z"
      }
    },
    {
      "cell_type": "code",
      "source": [
        "from tqdm import tqdm\n",
        "import re\n",
        "import nltk\n",
        "nltk.download('punkt')\n",
        "nltk.download('stopwords')\n",
        "from nltk.corpus import stopwords\n",
        "from nltk.tokenize import word_tokenize\n",
        "from nltk.stem.porter import PorterStemmer\n",
        "from wordcloud import WordCloud\n",
        "\n",
        "def preprocess_text(text_data):\n",
        "    preprocessed_text = []\n",
        "\n",
        "    for sentence in tqdm(text_data):\n",
        "        sentence = re.sub(r'[^\\w\\s]', '', sentence)\n",
        "        preprocessed_text.append(' '.join(token.lower()\n",
        "                                  for token in str(sentence).split()\n",
        "                                  if token not in stopwords.words('english')))\n",
        "\n",
        "    return preprocessed_text\n"
      ],
      "metadata": {
        "colab": {
          "base_uri": "https://localhost:8080/"
        },
        "id": "n2mH7g8roOK8",
        "outputId": "8954655f-26f9-4646-b289-4c581ea6335e"
      },
      "execution_count": 26,
      "outputs": [
        {
          "output_type": "stream",
          "name": "stderr",
          "text": [
            "[nltk_data] Downloading package punkt to /root/nltk_data...\n",
            "[nltk_data]   Unzipping tokenizers/punkt.zip.\n",
            "[nltk_data] Downloading package stopwords to /root/nltk_data...\n",
            "[nltk_data]   Unzipping corpora/stopwords.zip.\n"
          ]
        }
      ]
    },
    {
      "cell_type": "code",
      "source": [
        "preprocessed_review = preprocess_text(df['statementText'].values)\n",
        "df['statementText'] = preprocessed_review"
      ],
      "metadata": {
        "colab": {
          "base_uri": "https://localhost:8080/"
        },
        "id": "OfXwX-WIoZ24",
        "outputId": "eef18637-2bbe-49bf-b82e-c581aed5dc2a"
      },
      "execution_count": 27,
      "outputs": [
        {
          "output_type": "stream",
          "name": "stderr",
          "text": [
            "100%|██████████| 2835/2835 [00:06<00:00, 418.14it/s]\n"
          ]
        }
      ]
    },
    {
      "cell_type": "code",
      "source": [
        "df['statementText']"
      ],
      "metadata": {
        "colab": {
          "base_uri": "https://localhost:8080/"
        },
        "id": "Zt6iwjaYpBMd",
        "outputId": "ed70c5ad-7aa7-45e0-8b25-83da1388ab7e"
      },
      "execution_count": null,
      "outputs": [
        {
          "output_type": "execute_result",
          "data": {
            "text/plain": [
              "0       pamiętamy że w latach 20062007 kiedy rządziło ...\n",
              "1       jeżeli patrzymy na dane dla oecd polska jest p...\n",
              "2       po kilkuletnim okresie dodatniego przyrostu na...\n",
              "3       jeszcze dwa dni wcześniej bank światowy podwyż...\n",
              "4       jeszcze dzień wcześniej międzynarodowy fundusz...\n",
              "                              ...                        \n",
              "2830    przepis wskazujący potrzebne kompetencje zasia...\n",
              "2831    pis nie robił problemów kiedy trzeba było popr...\n",
              "2832    dzisiaj w polsce tego badać nie można medyczne...\n",
              "2833    po badaniach w tej chwili które zostały przepr...\n",
              "2834    próg referendalny jest 50 nawet jeśli zostanie...\n",
              "Name: statementText, Length: 2835, dtype: object"
            ]
          },
          "metadata": {},
          "execution_count": 15
        }
      ]
    },
    {
      "cell_type": "code",
      "source": [
        "from sklearn.model_selection import train_test_split\n",
        "from sklearn.feature_extraction.text import TfidfVectorizer\n",
        "from sklearn.tree import DecisionTreeClassifier\n",
        "\n",
        "# Assuming df is your original DataFrame\n",
        "statement_to_int = {'TRUE': 1, 'FALSE': 2, 'MISLEADING': 3, 'UNVERIFIABLE': 4}\n",
        "\n",
        "# Convert the statementState column to integers using the mapping dictionary\n",
        "df['statementState'] = df['statementState'].map(statement_to_int)\n",
        "\n",
        "# Split the data\n",
        "X = df['statementText']\n",
        "y = df['statementState']\n",
        "train_statement, test_statement, train_class, test_class = train_test_split(X, y, test_size=0.25, random_state=123)\n",
        "\n",
        "\n"
      ],
      "metadata": {
        "id": "hbivUMDCN6yh"
      },
      "execution_count": 28,
      "outputs": []
    },
    {
      "cell_type": "code",
      "source": [
        "# Vectorize the text data\n",
        "vectorization = TfidfVectorizer(strip_accents='ascii')\n",
        "train_statement_vectorized = vectorization.fit_transform(train_statement)\n",
        "test_statement_vectorized = vectorization.transform(test_statement)\n",
        "\n",
        "# Train the model\n",
        "model = DecisionTreeClassifier()\n",
        "model.fit(train_statement_vectorized, train_class)\n",
        "\n",
        "# Evaluate the model (optional)\n",
        "predictions = model.predict(test_statement_vectorized)\n",
        "\n",
        "from sklearn.metrics import accuracy_score\n",
        "accuracy = accuracy_score(test_class, predictions)\n",
        "print(f'Accuracy: {accuracy}')"
      ],
      "metadata": {
        "colab": {
          "base_uri": "https://localhost:8080/",
          "height": 371
        },
        "id": "QBkRNAeNpJkl",
        "outputId": "0480e159-cab5-4c3c-8824-73100b81c5a3"
      },
      "execution_count": 29,
      "outputs": [
        {
          "output_type": "error",
          "ename": "ValueError",
          "evalue": "Input y contains NaN.",
          "traceback": [
            "\u001b[0;31m---------------------------------------------------------------------------\u001b[0m",
            "\u001b[0;31mValueError\u001b[0m                                Traceback (most recent call last)",
            "\u001b[0;32m<ipython-input-29-5c2dcccf08cd>\u001b[0m in \u001b[0;36m<cell line: 8>\u001b[0;34m()\u001b[0m\n\u001b[1;32m      6\u001b[0m \u001b[0;31m# Train the model\u001b[0m\u001b[0;34m\u001b[0m\u001b[0;34m\u001b[0m\u001b[0m\n\u001b[1;32m      7\u001b[0m \u001b[0mmodel\u001b[0m \u001b[0;34m=\u001b[0m \u001b[0mDecisionTreeClassifier\u001b[0m\u001b[0;34m(\u001b[0m\u001b[0;34m)\u001b[0m\u001b[0;34m\u001b[0m\u001b[0;34m\u001b[0m\u001b[0m\n\u001b[0;32m----> 8\u001b[0;31m \u001b[0mmodel\u001b[0m\u001b[0;34m.\u001b[0m\u001b[0mfit\u001b[0m\u001b[0;34m(\u001b[0m\u001b[0mtrain_statement_vectorized\u001b[0m\u001b[0;34m,\u001b[0m \u001b[0mtrain_class\u001b[0m\u001b[0;34m)\u001b[0m\u001b[0;34m\u001b[0m\u001b[0;34m\u001b[0m\u001b[0m\n\u001b[0m\u001b[1;32m      9\u001b[0m \u001b[0;34m\u001b[0m\u001b[0m\n\u001b[1;32m     10\u001b[0m \u001b[0;31m# Evaluate the model (optional)\u001b[0m\u001b[0;34m\u001b[0m\u001b[0;34m\u001b[0m\u001b[0m\n",
            "\u001b[0;32m/usr/local/lib/python3.10/dist-packages/sklearn/tree/_classes.py\u001b[0m in \u001b[0;36mfit\u001b[0;34m(self, X, y, sample_weight, check_input)\u001b[0m\n\u001b[1;32m    887\u001b[0m         \"\"\"\n\u001b[1;32m    888\u001b[0m \u001b[0;34m\u001b[0m\u001b[0m\n\u001b[0;32m--> 889\u001b[0;31m         super().fit(\n\u001b[0m\u001b[1;32m    890\u001b[0m             \u001b[0mX\u001b[0m\u001b[0;34m,\u001b[0m\u001b[0;34m\u001b[0m\u001b[0;34m\u001b[0m\u001b[0m\n\u001b[1;32m    891\u001b[0m             \u001b[0my\u001b[0m\u001b[0;34m,\u001b[0m\u001b[0;34m\u001b[0m\u001b[0;34m\u001b[0m\u001b[0m\n",
            "\u001b[0;32m/usr/local/lib/python3.10/dist-packages/sklearn/tree/_classes.py\u001b[0m in \u001b[0;36mfit\u001b[0;34m(self, X, y, sample_weight, check_input)\u001b[0m\n\u001b[1;32m    184\u001b[0m             \u001b[0mcheck_X_params\u001b[0m \u001b[0;34m=\u001b[0m \u001b[0mdict\u001b[0m\u001b[0;34m(\u001b[0m\u001b[0mdtype\u001b[0m\u001b[0;34m=\u001b[0m\u001b[0mDTYPE\u001b[0m\u001b[0;34m,\u001b[0m \u001b[0maccept_sparse\u001b[0m\u001b[0;34m=\u001b[0m\u001b[0;34m\"csc\"\u001b[0m\u001b[0;34m)\u001b[0m\u001b[0;34m\u001b[0m\u001b[0;34m\u001b[0m\u001b[0m\n\u001b[1;32m    185\u001b[0m             \u001b[0mcheck_y_params\u001b[0m \u001b[0;34m=\u001b[0m \u001b[0mdict\u001b[0m\u001b[0;34m(\u001b[0m\u001b[0mensure_2d\u001b[0m\u001b[0;34m=\u001b[0m\u001b[0;32mFalse\u001b[0m\u001b[0;34m,\u001b[0m \u001b[0mdtype\u001b[0m\u001b[0;34m=\u001b[0m\u001b[0;32mNone\u001b[0m\u001b[0;34m)\u001b[0m\u001b[0;34m\u001b[0m\u001b[0;34m\u001b[0m\u001b[0m\n\u001b[0;32m--> 186\u001b[0;31m             X, y = self._validate_data(\n\u001b[0m\u001b[1;32m    187\u001b[0m                 \u001b[0mX\u001b[0m\u001b[0;34m,\u001b[0m \u001b[0my\u001b[0m\u001b[0;34m,\u001b[0m \u001b[0mvalidate_separately\u001b[0m\u001b[0;34m=\u001b[0m\u001b[0;34m(\u001b[0m\u001b[0mcheck_X_params\u001b[0m\u001b[0;34m,\u001b[0m \u001b[0mcheck_y_params\u001b[0m\u001b[0;34m)\u001b[0m\u001b[0;34m\u001b[0m\u001b[0;34m\u001b[0m\u001b[0m\n\u001b[1;32m    188\u001b[0m             )\n",
            "\u001b[0;32m/usr/local/lib/python3.10/dist-packages/sklearn/base.py\u001b[0m in \u001b[0;36m_validate_data\u001b[0;34m(self, X, y, reset, validate_separately, **check_params)\u001b[0m\n\u001b[1;32m    580\u001b[0m                 \u001b[0;32mif\u001b[0m \u001b[0;34m\"estimator\"\u001b[0m \u001b[0;32mnot\u001b[0m \u001b[0;32min\u001b[0m \u001b[0mcheck_y_params\u001b[0m\u001b[0;34m:\u001b[0m\u001b[0;34m\u001b[0m\u001b[0;34m\u001b[0m\u001b[0m\n\u001b[1;32m    581\u001b[0m                     \u001b[0mcheck_y_params\u001b[0m \u001b[0;34m=\u001b[0m \u001b[0;34m{\u001b[0m\u001b[0;34m**\u001b[0m\u001b[0mdefault_check_params\u001b[0m\u001b[0;34m,\u001b[0m \u001b[0;34m**\u001b[0m\u001b[0mcheck_y_params\u001b[0m\u001b[0;34m}\u001b[0m\u001b[0;34m\u001b[0m\u001b[0;34m\u001b[0m\u001b[0m\n\u001b[0;32m--> 582\u001b[0;31m                 \u001b[0my\u001b[0m \u001b[0;34m=\u001b[0m \u001b[0mcheck_array\u001b[0m\u001b[0;34m(\u001b[0m\u001b[0my\u001b[0m\u001b[0;34m,\u001b[0m \u001b[0minput_name\u001b[0m\u001b[0;34m=\u001b[0m\u001b[0;34m\"y\"\u001b[0m\u001b[0;34m,\u001b[0m \u001b[0;34m**\u001b[0m\u001b[0mcheck_y_params\u001b[0m\u001b[0;34m)\u001b[0m\u001b[0;34m\u001b[0m\u001b[0;34m\u001b[0m\u001b[0m\n\u001b[0m\u001b[1;32m    583\u001b[0m             \u001b[0;32melse\u001b[0m\u001b[0;34m:\u001b[0m\u001b[0;34m\u001b[0m\u001b[0;34m\u001b[0m\u001b[0m\n\u001b[1;32m    584\u001b[0m                 \u001b[0mX\u001b[0m\u001b[0;34m,\u001b[0m \u001b[0my\u001b[0m \u001b[0;34m=\u001b[0m \u001b[0mcheck_X_y\u001b[0m\u001b[0;34m(\u001b[0m\u001b[0mX\u001b[0m\u001b[0;34m,\u001b[0m \u001b[0my\u001b[0m\u001b[0;34m,\u001b[0m \u001b[0;34m**\u001b[0m\u001b[0mcheck_params\u001b[0m\u001b[0;34m)\u001b[0m\u001b[0;34m\u001b[0m\u001b[0;34m\u001b[0m\u001b[0m\n",
            "\u001b[0;32m/usr/local/lib/python3.10/dist-packages/sklearn/utils/validation.py\u001b[0m in \u001b[0;36mcheck_array\u001b[0;34m(array, accept_sparse, accept_large_sparse, dtype, order, copy, force_all_finite, ensure_2d, allow_nd, ensure_min_samples, ensure_min_features, estimator, input_name)\u001b[0m\n\u001b[1;32m    919\u001b[0m \u001b[0;34m\u001b[0m\u001b[0m\n\u001b[1;32m    920\u001b[0m         \u001b[0;32mif\u001b[0m \u001b[0mforce_all_finite\u001b[0m\u001b[0;34m:\u001b[0m\u001b[0;34m\u001b[0m\u001b[0;34m\u001b[0m\u001b[0m\n\u001b[0;32m--> 921\u001b[0;31m             _assert_all_finite(\n\u001b[0m\u001b[1;32m    922\u001b[0m                 \u001b[0marray\u001b[0m\u001b[0;34m,\u001b[0m\u001b[0;34m\u001b[0m\u001b[0;34m\u001b[0m\u001b[0m\n\u001b[1;32m    923\u001b[0m                 \u001b[0minput_name\u001b[0m\u001b[0;34m=\u001b[0m\u001b[0minput_name\u001b[0m\u001b[0;34m,\u001b[0m\u001b[0;34m\u001b[0m\u001b[0;34m\u001b[0m\u001b[0m\n",
            "\u001b[0;32m/usr/local/lib/python3.10/dist-packages/sklearn/utils/validation.py\u001b[0m in \u001b[0;36m_assert_all_finite\u001b[0;34m(X, allow_nan, msg_dtype, estimator_name, input_name)\u001b[0m\n\u001b[1;32m    159\u001b[0m                 \u001b[0;34m\"#estimators-that-handle-nan-values\"\u001b[0m\u001b[0;34m\u001b[0m\u001b[0;34m\u001b[0m\u001b[0m\n\u001b[1;32m    160\u001b[0m             )\n\u001b[0;32m--> 161\u001b[0;31m         \u001b[0;32mraise\u001b[0m \u001b[0mValueError\u001b[0m\u001b[0;34m(\u001b[0m\u001b[0mmsg_err\u001b[0m\u001b[0;34m)\u001b[0m\u001b[0;34m\u001b[0m\u001b[0;34m\u001b[0m\u001b[0m\n\u001b[0m\u001b[1;32m    162\u001b[0m \u001b[0;34m\u001b[0m\u001b[0m\n\u001b[1;32m    163\u001b[0m \u001b[0;34m\u001b[0m\u001b[0m\n",
            "\u001b[0;31mValueError\u001b[0m: Input y contains NaN."
          ]
        }
      ]
    },
    {
      "cell_type": "code",
      "source": [
        "import graphviz\n",
        "from sklearn import tree\n",
        "\n",
        "# Get feature names from the TfidfVectorizer\n",
        "feature_names = vectorization.get_feature_names_out()\n",
        "\n",
        "# Get unique class names from the training labels\n",
        "class_names = [str(label) for label in sorted(set(train_class))]\n",
        "\n",
        "# Visualize the model\n",
        "dot_decision_tree = tree.export_graphviz(model, out_file=None, feature_names=feature_names,\n",
        "                                         class_names=class_names, filled=True)\n",
        "decision_tree_plot = graphviz.Source(dot_decision_tree, format='png')\n",
        "decision_tree_plot.render(\"decision_tree\") # Save the plot as a file\n",
        "decision_tree_plot # Display the plot\n"
      ],
      "metadata": {
        "colab": {
          "base_uri": "https://localhost:8080/",
          "height": 219
        },
        "id": "Mfpaj7yoKkFV",
        "outputId": "73c9f907-4441-45c0-fada-82cd8bd04b66"
      },
      "execution_count": 24,
      "outputs": [
        {
          "output_type": "error",
          "ename": "NameError",
          "evalue": "name 'train_class' is not defined",
          "traceback": [
            "\u001b[0;31m---------------------------------------------------------------------------\u001b[0m",
            "\u001b[0;31mNameError\u001b[0m                                 Traceback (most recent call last)",
            "\u001b[0;32m<ipython-input-24-1e8cfc459edf>\u001b[0m in \u001b[0;36m<cell line: 8>\u001b[0;34m()\u001b[0m\n\u001b[1;32m      6\u001b[0m \u001b[0;34m\u001b[0m\u001b[0m\n\u001b[1;32m      7\u001b[0m \u001b[0;31m# Get unique class names from the training labels\u001b[0m\u001b[0;34m\u001b[0m\u001b[0;34m\u001b[0m\u001b[0m\n\u001b[0;32m----> 8\u001b[0;31m \u001b[0mclass_names\u001b[0m \u001b[0;34m=\u001b[0m \u001b[0;34m[\u001b[0m\u001b[0mstr\u001b[0m\u001b[0;34m(\u001b[0m\u001b[0mlabel\u001b[0m\u001b[0;34m)\u001b[0m \u001b[0;32mfor\u001b[0m \u001b[0mlabel\u001b[0m \u001b[0;32min\u001b[0m \u001b[0msorted\u001b[0m\u001b[0;34m(\u001b[0m\u001b[0mset\u001b[0m\u001b[0;34m(\u001b[0m\u001b[0mtrain_class\u001b[0m\u001b[0;34m)\u001b[0m\u001b[0;34m)\u001b[0m\u001b[0;34m]\u001b[0m\u001b[0;34m\u001b[0m\u001b[0;34m\u001b[0m\u001b[0m\n\u001b[0m\u001b[1;32m      9\u001b[0m \u001b[0;34m\u001b[0m\u001b[0m\n\u001b[1;32m     10\u001b[0m \u001b[0;31m# Visualize the model\u001b[0m\u001b[0;34m\u001b[0m\u001b[0;34m\u001b[0m\u001b[0m\n",
            "\u001b[0;31mNameError\u001b[0m: name 'train_class' is not defined"
          ]
        }
      ]
    },
    {
      "cell_type": "markdown",
      "source": [
        "# Logistic Regression"
      ],
      "metadata": {
        "id": "cV--6nPFrIlu"
      }
    },
    {
      "cell_type": "code",
      "source": [
        "x_train, x_test, y_train, y_test = train_test_split(df['statementText'],\n",
        "                                                    df['statementState'],\n",
        "                                                    test_size=0.25)"
      ],
      "metadata": {
        "id": "SsdFYTyfqxSC"
      },
      "execution_count": 19,
      "outputs": []
    },
    {
      "cell_type": "code",
      "source": [
        "from sklearn.feature_extraction.text import TfidfVectorizer\n",
        "vectorization = TfidfVectorizer()\n",
        "x_train = vectorization.fit_transform(x_train)\n",
        "x_test = vectorization.transform(x_test)"
      ],
      "metadata": {
        "id": "U6L5BXndq9c0"
      },
      "execution_count": 22,
      "outputs": []
    },
    {
      "cell_type": "code",
      "source": [
        "from sklearn.linear_model import LogisticRegression\n",
        "\n",
        "model = LogisticRegression()\n",
        "model.fit(x_train, y_train)\n",
        "\n",
        "# testing the model\n",
        "print(accuracy_score(y_train, model.predict(x_train)))\n",
        "print(accuracy_score(y_test, model.predict(x_test)))\n"
      ],
      "metadata": {
        "colab": {
          "base_uri": "https://localhost:8080/"
        },
        "id": "0YSl4HDyrDB6",
        "outputId": "baf5e92c-ec24-4902-b71e-92bd3f10f2d4"
      },
      "execution_count": 23,
      "outputs": [
        {
          "output_type": "stream",
          "name": "stdout",
          "text": [
            "0.7121354656632173\n",
            "0.6191819464033851\n"
          ]
        }
      ]
    },
    {
      "cell_type": "markdown",
      "source": [
        "# Bidirectional LSTM model"
      ],
      "metadata": {
        "id": "T-xdDnpu-80G"
      }
    },
    {
      "cell_type": "code",
      "source": [
        "df = pd.read_csv(DATA,sep='\\t')\n",
        "df = df.drop(columns=['politicianID', 'statementID', 'statementExplanClean', 'statementExplan'])"
      ],
      "metadata": {
        "id": "kqxMHygHNw8f"
      },
      "execution_count": 7,
      "outputs": []
    },
    {
      "cell_type": "code",
      "source": [
        "voc_size=10000\n",
        "embedding_vector_features=40\n",
        "sent_length = 500"
      ],
      "metadata": {
        "id": "vlL6p_xRLTTD"
      },
      "execution_count": 8,
      "outputs": []
    },
    {
      "cell_type": "code",
      "source": [
        "train, df_temp = train_test_split(df, test_size=0.25, stratify=df['statementState'], shuffle=True, random_state=123)\n",
        "validation, test = train_test_split(df, test_size=0.5,stratify=df['statementState'], shuffle=True, random_state=123)"
      ],
      "metadata": {
        "id": "2Wd6-e19LI4V"
      },
      "execution_count": 10,
      "outputs": []
    },
    {
      "cell_type": "code",
      "source": [
        "from keras.utils import to_categorical\n",
        "# Define the mapping from class names to numbers (0 to 3)\n",
        "statementStateMap = {'TRUE': 0, 'FALSE': 1, 'MISLEADING': 2, 'UNVERIFIABLE': 3}\n",
        "\n",
        "# Define the function to convert strings to numbers\n",
        "def convertToNumbers2(x_data_of_strings, y_data_of_strings, vocab_size, sent_length):\n",
        "    onehot_rep_train = [one_hot(word, vocab_size) for word in x_data_of_strings]\n",
        "    ebedded_doc_train = pad_sequences(onehot_rep_train, padding='pre', maxlen=sent_length)\n",
        "    state_train = np.array(list(map(statementStateMap.get, y_data_of_strings)))\n",
        "    return ebedded_doc_train, state_train\n",
        "\n",
        "\n",
        "# Assuming 'train' and 'validation' are your DataFrames\n",
        "X_train, Y_train = convertToNumbers2(train['statementText'], train['statementState'], voc_size, sent_length)\n",
        "X_test, Y_test = convertToNumbers2(validation['statementText'], validation['statementState'], voc_size, sent_length)\n",
        "\n",
        "# Now X_train, Y_train, X_test, and Y_test are ready to be used in your model\n",
        "\n",
        "Y_train = to_categorical(Y_train, num_classes=4)\n",
        "Y_test = to_categorical(Y_test, num_classes=4)"
      ],
      "metadata": {
        "id": "NhF0jOiXWevZ"
      },
      "execution_count": 11,
      "outputs": []
    },
    {
      "cell_type": "code",
      "source": [
        "from tensorflow.keras.layers import Bidirectional\n",
        "from tensorflow.keras.layers import Dropout\n",
        "\n",
        "#Setting up vocabulary size\n",
        "model1 = Sequential()\n",
        "model1.add(Embedding(voc_size, embedding_vector_features, input_length=sent_length))\n",
        "model1.add(Bidirectional(LSTM(100)))  # Bidirectional LSTM layer\n",
        "model1.add(Dropout(0.3))\n",
        "model1.add(Dense(4, activation='softmax'))  # Use softmax for multi-class classification\n",
        "model1.compile(loss='categorical_crossentropy', optimizer='adam', metrics=['accuracy'])  # Use categorical crossentropy\n",
        "print(model1.summary())\n",
        "\n",
        "# Train the model\n",
        "model1.fit(X_train, Y_train, validation_data=(X_test, Y_test), epochs=10, batch_size=64)"
      ],
      "metadata": {
        "colab": {
          "base_uri": "https://localhost:8080/"
        },
        "id": "iXub8Tpz--OR",
        "outputId": "a8b7674d-9079-4341-b0a5-e5b980cfc60f"
      },
      "execution_count": null,
      "outputs": [
        {
          "output_type": "stream",
          "name": "stdout",
          "text": [
            "Model: \"sequential\"\n",
            "_________________________________________________________________\n",
            " Layer (type)                Output Shape              Param #   \n",
            "=================================================================\n",
            " embedding (Embedding)       (None, 500, 40)           400000    \n",
            "                                                                 \n",
            " bidirectional (Bidirection  (None, 200)               112800    \n",
            " al)                                                             \n",
            "                                                                 \n",
            " dropout (Dropout)           (None, 200)               0         \n",
            "                                                                 \n",
            " dense (Dense)               (None, 4)                 804       \n",
            "                                                                 \n",
            "=================================================================\n",
            "Total params: 513604 (1.96 MB)\n",
            "Trainable params: 513604 (1.96 MB)\n",
            "Non-trainable params: 0 (0.00 Byte)\n",
            "_________________________________________________________________\n",
            "None\n",
            "Epoch 1/10\n",
            "34/34 [==============================] - 67s 2s/step - loss: 1.1192 - accuracy: 0.6101 - val_loss: 1.0065 - val_accuracy: 0.6210\n",
            "Epoch 2/10\n",
            "34/34 [==============================] - 67s 2s/step - loss: 1.0082 - accuracy: 0.6209 - val_loss: 0.9835 - val_accuracy: 0.6210\n",
            "Epoch 3/10\n",
            "34/34 [==============================] - 53s 2s/step - loss: 0.9642 - accuracy: 0.6209 - val_loss: 0.8877 - val_accuracy: 0.6210\n",
            "Epoch 4/10\n",
            "34/34 [==============================] - 55s 2s/step - loss: 0.8347 - accuracy: 0.6590 - val_loss: 0.6248 - val_accuracy: 0.7255\n",
            "Epoch 5/10\n",
            "34/34 [==============================] - 64s 2s/step - loss: 0.5344 - accuracy: 0.8194 - val_loss: 0.3615 - val_accuracy: 0.9083\n",
            "Epoch 6/10\n",
            "34/34 [==============================] - 65s 2s/step - loss: 0.3287 - accuracy: 0.9022 - val_loss: 0.2006 - val_accuracy: 0.9330\n",
            "Epoch 7/10\n",
            "34/34 [==============================] - 53s 2s/step - loss: 0.1938 - accuracy: 0.9346 - val_loss: 0.1487 - val_accuracy: 0.9499\n",
            "Epoch 8/10\n",
            "34/34 [==============================] - 66s 2s/step - loss: 0.1239 - accuracy: 0.9558 - val_loss: 0.0801 - val_accuracy: 0.9661\n",
            "Epoch 9/10\n",
            "34/34 [==============================] - 66s 2s/step - loss: 0.0783 - accuracy: 0.9708 - val_loss: 0.0582 - val_accuracy: 0.9880\n",
            "Epoch 10/10\n",
            "34/34 [==============================] - 59s 2s/step - loss: 0.0765 - accuracy: 0.9784 - val_loss: 0.0400 - val_accuracy: 0.9915\n"
          ]
        },
        {
          "output_type": "execute_result",
          "data": {
            "text/plain": [
              "<keras.src.callbacks.History at 0x7acaf0376800>"
            ]
          },
          "metadata": {},
          "execution_count": 12
        }
      ]
    },
    {
      "cell_type": "code",
      "source": [
        "pred = model1.predict(X_test)"
      ],
      "metadata": {
        "colab": {
          "base_uri": "https://localhost:8080/"
        },
        "id": "QzxtKSpDN33-",
        "outputId": "6cc5c7ae-3b4d-4193-d65c-b81f763c3e7e"
      },
      "execution_count": null,
      "outputs": [
        {
          "output_type": "stream",
          "name": "stdout",
          "text": [
            "45/45 [==============================] - 8s 169ms/step\n"
          ]
        }
      ]
    },
    {
      "cell_type": "code",
      "source": [
        "pred"
      ],
      "metadata": {
        "id": "6utEqsmuPlVf",
        "colab": {
          "base_uri": "https://localhost:8080/"
        },
        "outputId": "b543e6d5-8154-44f0-b6b5-b0164e6f0ba7"
      },
      "execution_count": null,
      "outputs": [
        {
          "output_type": "execute_result",
          "data": {
            "text/plain": [
              "array([[9.9144804e-01, 4.4784164e-03, 2.0056642e-03, 2.0677221e-03],\n",
              "       [9.9731493e-01, 1.0206491e-03, 1.3496352e-03, 3.1483360e-04],\n",
              "       [9.9848998e-01, 1.0315775e-03, 2.9105428e-04, 1.8718312e-04],\n",
              "       ...,\n",
              "       [9.9863154e-01, 7.6135615e-04, 4.2214186e-04, 1.8497284e-04],\n",
              "       [9.3699402e-01, 4.8143130e-02, 7.8747645e-03, 6.9880746e-03],\n",
              "       [5.0487015e-03, 4.4101425e-02, 2.0105213e-01, 7.4979770e-01]],\n",
              "      dtype=float32)"
            ]
          },
          "metadata": {},
          "execution_count": 33
        }
      ]
    },
    {
      "cell_type": "code",
      "source": [
        "# Convert predicted probabilities to class labels\n",
        "pred_class = np.argmax(pred, axis=1)\n",
        "\n",
        "# If Y_test is one-hot encoded, convert it back to class labels\n",
        "Y_test_class = np.argmax(Y_test, axis=1)\n",
        "\n",
        "# Calculate accuracy\n",
        "accuracy = accuracy_score(Y_test_class, pred_class)\n",
        "print(f'Accuracy: {accuracy * 100:.2f}%')"
      ],
      "metadata": {
        "colab": {
          "base_uri": "https://localhost:8080/"
        },
        "id": "YrmyPJtxPruE",
        "outputId": "3b5a1ce3-9f77-404b-caa2-9d9f34bc3283"
      },
      "execution_count": null,
      "outputs": [
        {
          "output_type": "stream",
          "name": "stdout",
          "text": [
            "Accuracy: 99.15%\n"
          ]
        }
      ]
    },
    {
      "cell_type": "code",
      "source": [
        "conf_matrix = confusion_matrix(Y_test_class, pred_class)\n",
        "\n",
        "# Plot confusion matrix\n",
        "plt.figure(figsize=(8, 6))\n",
        "sns.heatmap(conf_matrix, annot=True, fmt='d', cmap='Blues', xticklabels=[\"FALSE\", \"TRUE\", \"UNVERIFIABLE\", \"MISLEADING\"], yticklabels=[\"FALSE\", \"TRUE\", \"UNVERIFIABLE\", \"MISLEADING\"])\n",
        "plt.xlabel('Predicted Class')\n",
        "plt.ylabel('True Class')\n",
        "plt.title('Confusion Matrix')\n",
        "plt.show()"
      ],
      "metadata": {
        "colab": {
          "base_uri": "https://localhost:8080/",
          "height": 564
        },
        "id": "c68nyUsPOBd5",
        "outputId": "b66f4876-e3cf-4de5-ab5c-1b84add5c0a7"
      },
      "execution_count": null,
      "outputs": [
        {
          "output_type": "display_data",
          "data": {
            "text/plain": [
              "<Figure size 800x600 with 2 Axes>"
            ],
            "image/png": "[encoded data removed]"
          },
          "metadata": {}
        }
      ]
    },
    {
      "cell_type": "markdown",
      "source": [
        "# LSTM"
      ],
      "metadata": {
        "id": "eXHQfHm7k44J"
      }
    },
    {
      "cell_type": "code",
      "source": [
        "# some constants\n",
        "\n",
        "X_train, Y_train = convertToNumbers2(train['statementText'], train['statementState'], voc_size, sent_length)\n",
        "X_test, Y_test = convertToNumbers2(validation['statementText'], validation['statementState'], voc_size, sent_length)\n",
        "\n",
        "Y_train = to_categorical(Y_train, num_classes=4)\n",
        "Y_test = to_categorical(Y_test, num_classes=4)\n",
        "\n",
        "model = Sequential()\n",
        "model.add(Embedding(voc_size, embedding_vector_features, input_length = sent_length))\n",
        "model.add(LSTM(100))\n",
        "# In Keras, LSTM layer LSTM(100), the number 100 represents the number of units or neurons in the LSTM layer.\n",
        "model.add(Dense(4, activation = 'sigmoid'))\n",
        "model.compile(loss = 'binary_crossentropy', optimizer = 'adam' , metrics=['accuracy'])\n",
        "print(model.summary())\n",
        "\n",
        "model.fit(X_train, Y_train, validation_data = (X_test, Y_test), epochs = 10 , batch_size=64)\n",
        "\n",
        "y_pred = np.where(model.predict(X_test) > 0.5, 1,0)\n",
        "print(np.sum(y_pred) / y_pred.shape[0])"
      ],
      "metadata": {
        "colab": {
          "base_uri": "https://localhost:8080/"
        },
        "id": "_8im0iqMjJ1B",
        "outputId": "3583f474-781c-4050-ddd0-0a67fb262a43"
      },
      "execution_count": 14,
      "outputs": [
        {
          "output_type": "stream",
          "name": "stdout",
          "text": [
            "Model: \"sequential_1\"\n",
            "_________________________________________________________________\n",
            " Layer (type)                Output Shape              Param #   \n",
            "=================================================================\n",
            " embedding_1 (Embedding)     (None, 500, 40)           400000    \n",
            "                                                                 \n",
            " lstm_1 (LSTM)               (None, 100)               56400     \n",
            "                                                                 \n",
            " dense_1 (Dense)             (None, 4)                 404       \n",
            "                                                                 \n",
            "=================================================================\n",
            "Total params: 456804 (1.74 MB)\n",
            "Trainable params: 456804 (1.74 MB)\n",
            "Non-trainable params: 0 (0.00 Byte)\n",
            "_________________________________________________________________\n",
            "None\n",
            "Epoch 1/10\n",
            "34/34 [==============================] - 34s 856ms/step - loss: 0.5139 - accuracy: 0.6082 - val_loss: 0.4294 - val_accuracy: 0.6210\n",
            "Epoch 2/10\n",
            "34/34 [==============================] - 33s 968ms/step - loss: 0.4311 - accuracy: 0.6209 - val_loss: 0.4275 - val_accuracy: 0.6210\n",
            "Epoch 3/10\n",
            "34/34 [==============================] - 28s 839ms/step - loss: 0.4272 - accuracy: 0.6209 - val_loss: 0.4211 - val_accuracy: 0.6210\n",
            "Epoch 4/10\n",
            "34/34 [==============================] - 36s 1s/step - loss: 0.4185 - accuracy: 0.6209 - val_loss: 0.4059 - val_accuracy: 0.6210\n",
            "Epoch 5/10\n",
            "34/34 [==============================] - 28s 840ms/step - loss: 0.3966 - accuracy: 0.6214 - val_loss: 0.3632 - val_accuracy: 0.6224\n",
            "Epoch 6/10\n",
            "34/34 [==============================] - 32s 950ms/step - loss: 0.3382 - accuracy: 0.7164 - val_loss: 0.2636 - val_accuracy: 0.8038\n",
            "Epoch 7/10\n",
            "34/34 [==============================] - 29s 838ms/step - loss: 0.2546 - accuracy: 0.7874 - val_loss: 0.2182 - val_accuracy: 0.8186\n",
            "Epoch 8/10\n",
            "34/34 [==============================] - 29s 860ms/step - loss: 0.2018 - accuracy: 0.8236 - val_loss: 0.1815 - val_accuracy: 0.8250\n",
            "Epoch 9/10\n",
            "34/34 [==============================] - 29s 865ms/step - loss: 0.1859 - accuracy: 0.8495 - val_loss: 0.1782 - val_accuracy: 0.8426\n",
            "Epoch 10/10\n",
            "34/34 [==============================] - 31s 912ms/step - loss: 0.1772 - accuracy: 0.8401 - val_loss: 0.1779 - val_accuracy: 0.8687\n",
            "45/45 [==============================] - 7s 106ms/step\n",
            "0.8743824982357092\n"
          ]
        }
      ]
    },
    {
      "cell_type": "markdown",
      "source": [
        "# Save weights"
      ],
      "metadata": {
        "id": "sXmGEkxemNMQ"
      }
    },
    {
      "cell_type": "code",
      "source": [
        "# Save the model weights\n",
        "model1.save_weights('/content/gdrive/My Drive/Projekt_MIO/model_weights.h5')\n",
        "print(\"Model weights saved to model_weights.h5\")"
      ],
      "metadata": {
        "colab": {
          "base_uri": "https://localhost:8080/"
        },
        "id": "K_QJHydeQDWH",
        "outputId": "75ead80c-7a02-4899-886c-14413295702e"
      },
      "execution_count": null,
      "outputs": [
        {
          "output_type": "stream",
          "name": "stdout",
          "text": [
            "Model weights saved to model_weights.h5\n"
          ]
        }
      ]
    }
  ],
  "metadata": {
    "colab": {
      "provenance": []
    },
    "kernelspec": {
      "display_name": "Python 3",
      "name": "python3"
    },
    "language_info": {
      "name": "python"
    }
  },
  "nbformat": 4,
  "nbformat_minor": 0
}